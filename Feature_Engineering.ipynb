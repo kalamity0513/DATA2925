{
 "cells": [
  {
   "cell_type": "code",
   "execution_count": 1,
   "metadata": {},
   "outputs": [],
   "source": [
    "import pandas as pd\n",
    "from sklearn.experimental import enable_iterative_imputer\n",
    "from sklearn.impute import IterativeImputer"
   ]
  },
  {
   "cell_type": "code",
   "execution_count": 96,
   "metadata": {},
   "outputs": [
    {
     "data": {
      "text/plain": [
       "Index(['RANDID', 'SEX', 'TOTCHOL', 'AGE', 'SYSBP', 'DIABP', 'CURSMOKE',\n",
       "       'CIGPDAY', 'BMI', 'DIABETES', 'BPMEDS', 'HEARTRTE', 'GLUCOSE', 'educ',\n",
       "       'PREVCHD', 'PREVAP', 'PREVMI', 'PREVSTRK', 'PREVHYP', 'TIME', 'PERIOD',\n",
       "       'HDLC', 'LDLC', 'DEATH', 'ANGINA', 'HOSPMI', 'MI_FCHD', 'ANYCHD',\n",
       "       'STROKE', 'CVD', 'HYPERTEN', 'TIMEAP', 'TIMEMI', 'TIMEMIFC', 'TIMECHD',\n",
       "       'TIMESTRK', 'TIMECVD', 'TIMEDTH', 'TIMEHYP'],\n",
       "      dtype='object')"
      ]
     },
     "execution_count": 96,
     "metadata": {},
     "output_type": "execute_result"
    }
   ],
   "source": [
    "data = pd.read_csv('/Users/kalyani/Desktop/University/BMET2925/DATA2925/Data/frmgham2.csv')\n",
    "data.columns"
   ]
  },
  {
   "cell_type": "code",
   "execution_count": 97,
   "metadata": {},
   "outputs": [
    {
     "name": "stdout",
     "output_type": "stream",
     "text": [
      "Remaining missing values after imputation:\n",
      "RANDID      0\n",
      "SEX         0\n",
      "TOTCHOL     0\n",
      "AGE         0\n",
      "SYSBP       0\n",
      "DIABP       0\n",
      "CURSMOKE    0\n",
      "CIGPDAY     0\n",
      "BMI         0\n",
      "DIABETES    0\n",
      "BPMEDS      0\n",
      "HEARTRTE    0\n",
      "GLUCOSE     0\n",
      "educ        0\n",
      "PREVCHD     0\n",
      "PREVAP      0\n",
      "PREVMI      0\n",
      "PREVSTRK    0\n",
      "PREVHYP     0\n",
      "TIME        0\n",
      "PERIOD      0\n",
      "HDLC        0\n",
      "LDLC        0\n",
      "DEATH       0\n",
      "ANGINA      0\n",
      "HOSPMI      0\n",
      "MI_FCHD     0\n",
      "ANYCHD      0\n",
      "STROKE      0\n",
      "CVD         0\n",
      "HYPERTEN    0\n",
      "TIMEAP      0\n",
      "TIMEMI      0\n",
      "TIMEMIFC    0\n",
      "TIMECHD     0\n",
      "TIMESTRK    0\n",
      "TIMECVD     0\n",
      "TIMEDTH     0\n",
      "TIMEHYP     0\n",
      "dtype: int64\n"
     ]
    }
   ],
   "source": [
    "bpmeds_missing = data[data['BPMEDS'].isna()].index\n",
    "# Filling the BPMeds missing values as according to above\n",
    "for indx in bpmeds_missing:\n",
    "  # For diabetic patients\n",
    "  if data.loc[indx, 'DIABETES'] == 1 and (data.loc[indx, 'SYSBP'] > 130 or data.loc[indx, 'DIABP'] > 80):\n",
    "    data.loc[indx, 'BPMEDS'] = 1\n",
    "  \n",
    "  # For non-diabetic patients\n",
    "  elif data.loc[indx, 'DIABETES'] == 0 and (data.loc[indx, 'SYSBP'] > 140 or data.loc[indx, 'DIABP'] > 90):\n",
    "    data.loc[indx, 'BPMEDS'] = 1\n",
    "  \n",
    "  # For rest of the patients\n",
    "  else:\n",
    "    data.loc[indx, 'BPMEDS'] = 0\n",
    "\n",
    "# Imputing with median of current smokers\n",
    "imputing_median1 = data[data['CURSMOKE'] == 'YES']['CIGPDAY'].median()\n",
    "data['CIGPDAY'] = data['CIGPDAY'].fillna(imputing_median1)\n",
    "\n",
    "# Imputing the missing values with the median for each variable\n",
    "for var in ['TOTCHOL', 'BMI', 'HEARTRTE']:\n",
    "  imputing_median = data[var].median()\n",
    "  data[var]  = data[var].fillna(imputing_median)\n",
    "\n",
    "# Initialize the IterativeImputer\n",
    "imputer = IterativeImputer(random_state=0)\n",
    "\n",
    "# Define the columns with missing values for imputation\n",
    "columns_with_missing = ['CIGPDAY', 'GLUCOSE', 'educ', 'HDLC', 'LDLC']\n",
    "\n",
    "# Fit the imputer to the data and impute missing values\n",
    "imputer.fit(data[columns_with_missing])\n",
    "data_imputed = data.dropna(subset=['CIGPDAY', 'educ']).copy()  # Create a copy of the cleaned data\n",
    "data_imputed[columns_with_missing] = imputer.transform(data_imputed[columns_with_missing])\n",
    "\n",
    "# Check for any remaining missing values in the imputed dataset\n",
    "print(\"Remaining missing values after imputation:\")\n",
    "print(data_imputed.isna().sum())"
   ]
  },
  {
   "cell_type": "code",
   "execution_count": 121,
   "metadata": {},
   "outputs": [
    {
     "data": {
      "text/plain": [
       "Index(['RANDID', 'SEX', 'TOTCHOL', 'AGE', 'SYSBP', 'CURSMOKE', 'BMI',\n",
       "       'DIABETES', 'BPMEDS', 'HEARTRTE', 'GLUCOSE', 'educ', 'PREVCHD',\n",
       "       'PREVSTRK', 'TIME', 'HDLC', 'LDLC', 'DEATH', 'ANGINA', 'HOSPMI',\n",
       "       'STROKE', 'CVD', 'HYPERTEN'],\n",
       "      dtype='object')"
      ]
     },
     "execution_count": 121,
     "metadata": {},
     "output_type": "execute_result"
    }
   ],
   "source": [
    "import numpy as np\n",
    "import pandas as pd\n",
    "\n",
    "# Compute the correlation matrix\n",
    "correlation_matrix = data_imputed.corr().abs()\n",
    "\n",
    "# Set a threshold for collinearity\n",
    "threshold = 0.6  # Adjust as needed\n",
    "\n",
    "# Find pairs of highly correlated features\n",
    "correlated_pairs = np.where(correlation_matrix > threshold)\n",
    "\n",
    "# Remove one feature from each highly correlated pair\n",
    "features_to_drop = set()\n",
    "for i, j in zip(*correlated_pairs):\n",
    "    if i != j and i not in features_to_drop and j not in features_to_drop:\n",
    "        # Choose one feature to drop based on some criterion (e.g., correlation with target variable)\n",
    "        # For simplicity, you can drop the feature with the lower index\n",
    "        features_to_drop.add(j)\n",
    "\n",
    "# Drop highly correlated features from the dataset\n",
    "data_filtered = data_imputed.drop(columns=data_imputed.columns[list(features_to_drop)])\n",
    "\n",
    "# Proceed with feature selection using the filtered dataset\n",
    "\n",
    "data_filtered.columns"
   ]
  },
  {
   "cell_type": "code",
   "execution_count": 126,
   "metadata": {},
   "outputs": [
    {
     "name": "stdout",
     "output_type": "stream",
     "text": [
      "Columns removed:\n",
      "16\n",
      "['DIABP', 'CIGPDAY', 'PREVAP', 'PREVMI', 'PREVHYP', 'PERIOD', 'MI_FCHD', 'ANYCHD', 'TIMEAP', 'TIMEMI', 'TIMEMIFC', 'TIMECHD', 'TIMESTRK', 'TIMECVD', 'TIMEDTH', 'TIMEHYP']\n"
     ]
    }
   ],
   "source": [
    "# Get the columns present in data_filtered\n",
    "columns_to_keep = data_filtered.columns\n",
    "\n",
    "# Get the columns present in data but not in data_filtered\n",
    "columns_removed = [col for col in data.columns if col not in columns_to_keep]\n",
    "\n",
    "# Print the columns that have been removed\n",
    "print(\"Columns removed:\")\n",
    "print(len(columns_removed))\n",
    "print(columns_removed)\n"
   ]
  },
  {
   "cell_type": "code",
   "execution_count": 124,
   "metadata": {},
   "outputs": [
    {
     "name": "stdout",
     "output_type": "stream",
     "text": [
      "Skewed Features:\n",
      "TOTCHOL     0.727797\n",
      "SYSBP       0.935482\n",
      "BMI         1.000892\n",
      "DIABETES    4.348928\n",
      "BPMEDS      2.545514\n",
      "HEARTRTE    0.692623\n",
      "GLUCOSE     5.812714\n",
      "educ        0.677498\n",
      "PREVCHD     3.318648\n",
      "PREVSTRK    8.580086\n",
      "HDLC        1.904677\n",
      "LDLC        1.350835\n",
      "DEATH       0.860293\n",
      "ANGINA      1.826805\n",
      "HOSPMI      2.673288\n",
      "STROKE      2.837956\n",
      "CVD         1.162258\n",
      "dtype: float64\n"
     ]
    },
    {
     "data": {
      "image/png": "[encoded data removed]",
      "text/plain": [
       "<Figure size 1000x500 with 2 Axes>"
      ]
     },
     "metadata": {},
     "output_type": "display_data"
    }
   ],
   "source": [
    "# Compute skewness of numerical features\n",
    "skewness = data_filtered.select_dtypes(include=['float64', 'int64']).apply(lambda x: x.skew())\n",
    "\n",
    "# Filter features with skewness above a certain threshold (e.g., 0.5)\n",
    "skewed_features = skewness[skewness > 0.5]\n",
    "\n",
    "# Print the skewed features and their skewness values\n",
    "print(\"Skewed Features:\")\n",
    "print(skewed_features)\n",
    "\n",
    "# Optionally, visualize the distribution of skewed features before and after transformation\n",
    "import seaborn as sns\n",
    "import matplotlib.pyplot as plt\n",
    "\n",
    "# Example of visualizing the distribution of a skewed feature before and after transformation\n",
    "feature_name = 'TOTCHOL'\n",
    "plt.figure(figsize=(10, 5))\n",
    "\n",
    "# Plot the original distribution\n",
    "plt.subplot(1, 2, 1)\n",
    "sns.histplot(data_filtered[feature_name], kde=True)\n",
    "plt.title(f'Original Distribution ({feature_name})')\n",
    "\n",
    "# Apply transformation (e.g., log transformation) to the feature\n",
    "transformed_feature = np.log1p(data_filtered[feature_name])\n",
    "\n",
    "# Plot the transformed distribution\n",
    "plt.subplot(1, 2, 2)\n",
    "sns.histplot(transformed_feature, kde=True)\n",
    "plt.title(f'Transformed Distribution ({feature_name})')\n",
    "\n",
    "plt.tight_layout()\n",
    "plt.show()\n"
   ]
  },
  {
   "cell_type": "code",
   "execution_count": null,
   "metadata": {},
   "outputs": [],
   "source": [
    "# Drop the 'RANDID' column from the filtered dataset\n",
    "data_filtered = data_filtered.drop('RANDID', axis=1)"
   ]
  },
  {
   "cell_type": "code",
   "execution_count": 132,
   "metadata": {},
   "outputs": [
    {
     "name": "stdout",
     "output_type": "stream",
     "text": [
      "KNN Classifier Accuracy: 0.9094138543516874\n",
      "\n",
      "KNN Classification Report:\n",
      "              precision    recall  f1-score   support\n",
      "\n",
      "           0       0.92      0.97      0.94      1730\n",
      "           1       0.87      0.71      0.79       522\n",
      "\n",
      "    accuracy                           0.91      2252\n",
      "   macro avg       0.89      0.84      0.86      2252\n",
      "weighted avg       0.91      0.91      0.91      2252\n",
      "\n"
     ]
    }
   ],
   "source": [
    "from sklearn.model_selection import train_test_split\n",
    "from sklearn.preprocessing import StandardScaler\n",
    "from sklearn.neighbors import KNeighborsClassifier\n",
    "from sklearn.linear_model import LinearRegression\n",
    "from sklearn.metrics import accuracy_score, classification_report\n",
    "\n",
    "# Separate features (X) and target variable (y)\n",
    "X = data_filtered.drop('CVD', axis=1)\n",
    "y = data_filtered['CVD']\n",
    "\n",
    "# Split the data into training and testing sets\n",
    "X_train, X_test, y_train, y_test = train_test_split(X, y, test_size=0.2, random_state=0)\n",
    "\n",
    "# Standardize the features (optional but recommended for KNN)\n",
    "scaler = StandardScaler()\n",
    "X_train_scaled = scaler.fit_transform(X_train)\n",
    "X_test_scaled = scaler.transform(X_test)\n",
    "\n",
    "# Initialize KNN classifier\n",
    "knn = KNeighborsClassifier(n_neighbors=5)\n",
    "\n",
    "# Train the KNN classifier\n",
    "knn.fit(X_train_scaled, y_train)\n",
    "\n",
    "# Predict the target variable for the test set\n",
    "y_pred = knn.predict(X_test_scaled)\n",
    "\n",
    "# Evaluate the performance of the KNN model\n",
    "accuracy = accuracy_score(y_test, y_pred)\n",
    "print(\"KNN Classifier Accuracy:\", accuracy)\n",
    "\n",
    "# Print classification report for KNN\n",
    "print(\"\\nKNN Classification Report:\")\n",
    "print(classification_report(y_test, y_pred))"
   ]
  }
 ],
 "metadata": {
  "kernelspec": {
   "display_name": "base",
   "language": "python",
   "name": "python3"
  },
  "language_info": {
   "codemirror_mode": {
    "name": "ipython",
    "version": 3
   },
   "file_extension": ".py",
   "mimetype": "text/x-python",
   "name": "python",
   "nbconvert_exporter": "python",
   "pygments_lexer": "ipython3",
   "version": "3.11.5"
  }
 },
 "nbformat": 4,
 "nbformat_minor": 2
}
